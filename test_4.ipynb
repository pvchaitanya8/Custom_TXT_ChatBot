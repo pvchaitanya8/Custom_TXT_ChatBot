{
 "cells": [
  {
   "cell_type": "code",
   "execution_count": null,
   "metadata": {},
   "outputs": [],
   "source": [
    "%pip install llama-index"
   ]
  },
  {
   "cell_type": "code",
   "execution_count": null,
   "metadata": {},
   "outputs": [],
   "source": [
    "%pip install langchain"
   ]
  },
  {
   "cell_type": "code",
   "execution_count": null,
   "metadata": {},
   "outputs": [],
   "source": [
    "from llama_index import SimpleDirectoryReader, GPTListIndex, GPTVectorStoreIndex, LLMPredictor, PromptHelper, ServiceContext, StorageContext, load_index_from_storage\n",
    "from langchain import OpenAI\n",
    "import sys\n",
    "import os "
   ]
  },
  {
   "cell_type": "code",
   "execution_count": null,
   "metadata": {},
   "outputs": [],
   "source": [
    "import openai\n",
    "os.environ[\"OPENAI_API_KEY\"] = \"***************************************\" \n",
    "openai.api_key = os.environ[\"OPENAI_API_KEY\"]\n"
   ]
  },
  {
   "cell_type": "code",
   "execution_count": null,
   "metadata": {},
   "outputs": [],
   "source": [
    "from llama_index import ServiceContext, load_index_from_storage\n",
    "from llama_index.embeddings.openai import OpenAIEmbedding\n",
    "\n",
    "def create_index(path):\n",
    "    max_input = 4096\n",
    "    tokens = 246\n",
    "    chunk_size = 600 \n",
    "    max_chunk_overlap = 0.1\n",
    "    \n",
    "    #define prompt\n",
    "    promptHelper = PromptHelper(max_input,tokens,max_chunk_overlap,chunk_size_limit=chunk_size)\n",
    "        \n",
    "    #define LLM\n",
    "    llmPredictor = LLMPredictor(llm=OpenAI(temperature=0, model_name=\"text-ada-001\",max_tokens=tokens))\n",
    "    \n",
    "    #load data\n",
    "    docs = SimpleDirectoryReader(path).load_data()\n",
    "    \n",
    "    #create vector index\n",
    "    service_context = ServiceContext.from_defaults(llm_predictor=llmPredictor, prompt_helper=promptHelper)\n",
    "    \n",
    "    #create vector index\n",
    "    embed_model = OpenAIEmbedding(embed_batch_size=1)\n",
    "    vectorIndex = GPTVectorStoreIndex.from_documents(documents=docs, service_context=service_context, embed_model=embed_model, )\n",
    "    # print(\"VI1\")\n",
    "    vectorIndex.storage_context.persist(persist_dir='Store')\n",
    "    # print(\"VI2\")\n",
    "    print(vectorIndex)\n",
    "    \n",
    "    \n",
    "    return vectorIndex"
   ]
  },
  {
   "cell_type": "code",
   "execution_count": null,
   "metadata": {},
   "outputs": [],
   "source": [
    "create_index(\"Knowledge\")"
   ]
  },
  {
   "cell_type": "code",
   "execution_count": null,
   "metadata": {},
   "outputs": [],
   "source": [
    "def answerMe(question):\n",
    "    storage_context = StorageContext.from_defaults(persist_dir = 'Store')\n",
    "    index = load_index_from_storage(storage_context)\n",
    "    query_engine = index.as_query_engine()\n",
    "    response = query_engine.query(question)\n",
    "    return response"
   ]
  },
  {
   "cell_type": "code",
   "execution_count": null,
   "metadata": {},
   "outputs": [],
   "source": [
    "print(answerMe(\"who is author of the book?\"))"
   ]
  },
  {
   "cell_type": "code",
   "execution_count": null,
   "metadata": {},
   "outputs": [],
   "source": [
    "print(answerMe(\"Why are dinosaurs extinct, while humans are able to live?\"))"
   ]
  },
  {
   "cell_type": "code",
   "execution_count": null,
   "metadata": {},
   "outputs": [],
   "source": [
    "print(answerMe(\"Did you find any theories that you believe are not completely true?\"))"
   ]
  }
 ],
 "metadata": {
  "kernelspec": {
   "display_name": "Python 3",
   "language": "python",
   "name": "python3"
  },
  "language_info": {
   "codemirror_mode": {
    "name": "ipython",
    "version": 3
   },
   "file_extension": ".py",
   "mimetype": "text/x-python",
   "name": "python",
   "nbconvert_exporter": "python",
   "pygments_lexer": "ipython3",
   "version": "3.10.0"
  },
  "orig_nbformat": 4
 },
 "nbformat": 4,
 "nbformat_minor": 2
}
